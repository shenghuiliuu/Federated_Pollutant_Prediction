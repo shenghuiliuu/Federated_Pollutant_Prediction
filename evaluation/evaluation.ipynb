{
 "cells": [
  {
   "cell_type": "code",
   "execution_count": 1,
   "metadata": {
    "collapsed": true
   },
   "outputs": [],
   "source": [
    "import os\n",
    "import sys\n",
    "\n",
    "sys.path.append('../preprocess/')\n",
    "import utils\n",
    "import tensorflow as tf\n",
    "import numpy as np\n",
    "from dataset_generator import WindowGenerator\n",
    "import matplotlib.pyplot as plt\n",
    "import pandas as pd\n",
    "from shutil import rmtree"
   ]
  },
  {
   "cell_type": "code",
   "execution_count": null,
   "outputs": [],
   "source": [
    "\n",
    "pred_dir = \"../evaluation/Shenghui_centralized_model/\"\n",
    "stations = utils.STATIONS\n",
    "\n",
    "smapes = []\n",
    "for id in stations:\n",
    "    input_time = pd.to_datetime(\"2019-9-29 00:00:00\")\n",
    "    inputs = []\n",
    "    labels = []\n",
    "    while input_time <= pd.to_datetime(\"2019-12-29 00:00:00\"):\n",
    "        input = np.array(stations[id][input_time:\n",
    "                                      input_time + pd.Timedelta('1 days 23 hours')])\n",
    "        label = np.array(\n",
    "            stations[id][input_time + pd.Timedelta('2 days'): input_time + pd.Timedelta('2 days 23 hours')])[:, :num_outputs]\n",
    "        input_time += pd.Timedelta('1 days')\n",
    "        input = (input - np.tile(train_mean, (len(input), 1))) / np.tile(train_std, (len(input), 1))\n",
    "        inputs.append(input)\n",
    "        labels.append(label)\n",
    "\n",
    "    labels = np.array(labels)\n",
    "    inputs = np.array(inputs)\n",
    "\n",
    "    smapes.append(smape(labels, pred))\n",
    "    # Write data to csv\n",
    "    pred_df = pd.DataFrame(columns=[\"Start\"] + utils.OUTPUTS)\n",
    "    pred_df.set_index(\"Start\", inplace=True)\n",
    "    start_time = pd.to_datetime(\"2019-10-1 00:00:00\")\n",
    "    for i in range(pred.shape[0]):\n",
    "        for j in range(pred.shape[1]):\n",
    "            pred_df.loc[start_time] = pred[i, j]\n",
    "            start_time += pd.Timedelta(\"1 hours\")\n",
    "    pred_df.to_csv(os.path.join(pred_dir, str(id) + '.csv'))\n",
    "\n",
    "# %%\n",
    "\n",
    "print(np.mean(smapes))\n",
    "# %%\n",
    "\n"
   ],
   "metadata": {
    "collapsed": false,
    "pycharm": {
     "name": "#%%\n"
    }
   }
  }
 ],
 "metadata": {
  "kernelspec": {
   "display_name": "Python 3",
   "language": "python",
   "name": "python3"
  },
  "language_info": {
   "codemirror_mode": {
    "name": "ipython",
    "version": 2
   },
   "file_extension": ".py",
   "mimetype": "text/x-python",
   "name": "python",
   "nbconvert_exporter": "python",
   "pygments_lexer": "ipython2",
   "version": "2.7.6"
  }
 },
 "nbformat": 4,
 "nbformat_minor": 0
}